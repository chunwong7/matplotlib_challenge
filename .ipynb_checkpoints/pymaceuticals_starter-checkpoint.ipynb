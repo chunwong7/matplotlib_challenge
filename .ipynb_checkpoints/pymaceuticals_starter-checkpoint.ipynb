{
 "cells": [
  {
   "cell_type": "markdown",
   "metadata": {},
   "source": [
    "## Observations and Insights"
   ]
  },
  {
   "cell_type": "markdown",
   "metadata": {},
   "source": []
  },
  {
   "cell_type": "markdown",
   "metadata": {},
   "source": [
    "## Dependencies and starter code"
   ]
  },
  {
   "cell_type": "code",
   "execution_count": 14,
   "metadata": {},
   "outputs": [],
   "source": [
    "# Dependencies and Setup\n",
    "import matplotlib.pyplot as plt\n",
    "import pandas as pd\n",
    "import scipy.stats as st\n",
    "\n",
    "# Study data files\n",
    "mouse_metadata = \"data/Mouse_metadata.csv\"\n",
    "study_results = \"data/Study_results.csv\"\n",
    "\n",
    "# Read the mouse data and the study results\n",
    "mouse_metadata = pd.read_csv(mouse_metadata)\n",
    "study_results = pd.read_csv(study_results)\n",
    "mouse_df = pd.DataFrame(mouse_metadata)\n",
    "\n",
    "study_df = pd.DataFrame(study_results)\n",
    "\n",
    "\n",
    "sum_df = pd.merge(mouse_df, study_df, on='Mouse ID')\n",
    "\n",
    "# Combine the data into a single dataset\n",
    "#study_df"
   ]
  },
  {
   "cell_type": "code",
   "execution_count": 36,
   "metadata": {},
   "outputs": [
    {
     "data": {
      "text/html": [
       "<div>\n",
       "<style scoped>\n",
       "    .dataframe tbody tr th:only-of-type {\n",
       "        vertical-align: middle;\n",
       "    }\n",
       "\n",
       "    .dataframe tbody tr th {\n",
       "        vertical-align: top;\n",
       "    }\n",
       "\n",
       "    .dataframe thead th {\n",
       "        text-align: right;\n",
       "    }\n",
       "</style>\n",
       "<table border=\"1\" class=\"dataframe\">\n",
       "  <thead>\n",
       "    <tr style=\"text-align: right;\">\n",
       "      <th></th>\n",
       "      <th>Mouse ID</th>\n",
       "      <th>Drug Regimen</th>\n",
       "      <th>Sex</th>\n",
       "      <th>Age_months</th>\n",
       "      <th>Weight (g)</th>\n",
       "      <th>Timepoint</th>\n",
       "      <th>Tumor Volume (mm3)</th>\n",
       "      <th>Metastatic Sites</th>\n",
       "    </tr>\n",
       "  </thead>\n",
       "  <tbody>\n",
       "    <tr>\n",
       "      <th>0</th>\n",
       "      <td>k403</td>\n",
       "      <td>Ramicane</td>\n",
       "      <td>Male</td>\n",
       "      <td>21</td>\n",
       "      <td>16</td>\n",
       "      <td>0</td>\n",
       "      <td>45.000000</td>\n",
       "      <td>0</td>\n",
       "    </tr>\n",
       "    <tr>\n",
       "      <th>1</th>\n",
       "      <td>k403</td>\n",
       "      <td>Ramicane</td>\n",
       "      <td>Male</td>\n",
       "      <td>21</td>\n",
       "      <td>16</td>\n",
       "      <td>5</td>\n",
       "      <td>38.825898</td>\n",
       "      <td>0</td>\n",
       "    </tr>\n",
       "    <tr>\n",
       "      <th>2</th>\n",
       "      <td>k403</td>\n",
       "      <td>Ramicane</td>\n",
       "      <td>Male</td>\n",
       "      <td>21</td>\n",
       "      <td>16</td>\n",
       "      <td>10</td>\n",
       "      <td>35.014271</td>\n",
       "      <td>1</td>\n",
       "    </tr>\n",
       "    <tr>\n",
       "      <th>3</th>\n",
       "      <td>k403</td>\n",
       "      <td>Ramicane</td>\n",
       "      <td>Male</td>\n",
       "      <td>21</td>\n",
       "      <td>16</td>\n",
       "      <td>15</td>\n",
       "      <td>34.223992</td>\n",
       "      <td>1</td>\n",
       "    </tr>\n",
       "    <tr>\n",
       "      <th>4</th>\n",
       "      <td>k403</td>\n",
       "      <td>Ramicane</td>\n",
       "      <td>Male</td>\n",
       "      <td>21</td>\n",
       "      <td>16</td>\n",
       "      <td>20</td>\n",
       "      <td>32.997729</td>\n",
       "      <td>1</td>\n",
       "    </tr>\n",
       "  </tbody>\n",
       "</table>\n",
       "</div>"
      ],
      "text/plain": [
       "  Mouse ID Drug Regimen   Sex  Age_months  Weight (g)  Timepoint  \\\n",
       "0     k403     Ramicane  Male          21          16          0   \n",
       "1     k403     Ramicane  Male          21          16          5   \n",
       "2     k403     Ramicane  Male          21          16         10   \n",
       "3     k403     Ramicane  Male          21          16         15   \n",
       "4     k403     Ramicane  Male          21          16         20   \n",
       "\n",
       "   Tumor Volume (mm3)  Metastatic Sites  \n",
       "0           45.000000                 0  \n",
       "1           38.825898                 0  \n",
       "2           35.014271                 1  \n",
       "3           34.223992                 1  \n",
       "4           32.997729                 1  "
      ]
     },
     "execution_count": 36,
     "metadata": {},
     "output_type": "execute_result"
    }
   ],
   "source": [
    "#sum_df.count()\n",
    "sum_df.head()"
   ]
  },
  {
   "cell_type": "markdown",
   "metadata": {},
   "source": [
    "## Summary statistics"
   ]
  },
  {
   "cell_type": "code",
   "execution_count": 69,
   "metadata": {},
   "outputs": [
    {
     "data": {
      "text/plain": [
       "Capomulin    230\n",
       "Ramicane     228\n",
       "Ketapril     188\n",
       "Naftisol     186\n",
       "Zoniferol    182\n",
       "Placebo      181\n",
       "Stelasyn     181\n",
       "Infubinol    178\n",
       "Ceftamin     178\n",
       "Propriva     161\n",
       "Name: Drug Regimen, dtype: int64"
      ]
     },
     "execution_count": 69,
     "metadata": {},
     "output_type": "execute_result"
    }
   ],
   "source": [
    "# Generate a summary statistics table of mean, median, variance, standard deviation,\n",
    "#and SEM of the tumor volume for each regimen\n",
    "regimens = sum_df['Drug Regimen'].unique()\n",
    "\n",
    "regimen_names = []\n",
    "for x in range(len(regimens)):\n",
    "    regimen_names.append(regimens[x])\n",
    "#regimen_names\n",
    "sum_df['Drug Regimen'].value_counts()"
   ]
  },
  {
   "cell_type": "code",
   "execution_count": 122,
   "metadata": {},
   "outputs": [],
   "source": [
    "dictionary = {\n",
    "    'Drug Regimen': [],\n",
    "    'Mean': [],\n",
    "    'Median': [],\n",
    "    'Standard Deviation': [],\n",
    "    'Variance': [],\n",
    "    'Standard Error': []\n",
    "    \n",
    "}\n",
    "regimen_names[0]\n",
    "#sum_df.loc[sum_df['Drug Regimen']=='Ramicane',:]\n",
    "\n",
    "def study_stats(data):\n",
    "    study_mean = data.mean()\n",
    "    study_median = data.median()\n",
    "    study_stdev = data.std()\n",
    "    study_var = study_stdev ** 2\n",
    "    study_sterr = st.sem(data)\n",
    "    dictionary['Mean'].append(study_mean)\n",
    "    dictionary['Median'].append(study_median)\n",
    "    dictionary['Standard Deviation'].append(study_stdev)\n",
    "    dictionary['Variance'].append(study_var)\n",
    "    dictionary['Standard Error'].append(study_sterr)\n",
    "\n",
    "    \n",
    "#regi_df.count()\n",
    "for x in range(len(regimen_names)):\n",
    "    regi_df = sum_df.loc[sum_df['Drug Regimen']==regimen_names[x],:]\n",
    "    dictionary['Drug Regimen'].append(regimen_names[x])\n",
    "    study_stats(regi_df['Tumor Volume (mm3)'])\n",
    "\n",
    "    \n",
    "    #print(regimen_names[x])\n",
    "    #print(regi_df['Tumor Volume (mm3)'].mean())\n",
    "\n",
    "#dictionary['Drug Regimen']"
   ]
  },
  {
   "cell_type": "code",
   "execution_count": 129,
   "metadata": {},
   "outputs": [
    {
     "name": "stdout",
     "output_type": "stream",
     "text": [
      "Ketapril\n",
      "0.6038598237739697\n"
     ]
    }
   ],
   "source": [
    "df = pd.DataFrame({\n",
    "        'Drug Regimen': dictionary['Drug Regimen'][7],\n",
    "        'Mean': dictionary['Mean'][7],\n",
    "        'Median': dictionary['Median'][7],\n",
    "        'Standard Deviation': dictionary['Standard Deviation'][7],\n",
    "        'Variance': dictionary['Variance'][7],\n",
    "        'Standard Error': dictionary['Standard Error'][7]\n",
    "    },index=[0])\n",
    "print(dictionary['Drug Regimen'][7])\n",
    "print(dictionary['Standard Error'][7])"
   ]
  },
  {
   "cell_type": "code",
   "execution_count": 120,
   "metadata": {},
   "outputs": [
    {
     "name": "stdout",
     "output_type": "stream",
     "text": [
      "Ketapril\n",
      "0.6038598237739697\n",
      "{'Drug Regimen': ['Ramicane', 'Capomulin', 'Infubinol', 'Placebo', 'Ceftamin', 'Stelasyn', 'Zoniferol', 'Ketapril', 'Propriva', 'Naftisol'], 'Mean': [40.2167450667105, 40.67574114100001, 52.88479510859551, 54.03358078635358, 52.59117180960677, 54.23314911988949, 53.236506551593415, 55.23563764047869, 52.3225520357764, 54.331564658333306], 'Median': [40.67323554, 41.557808879999996, 51.82058438, 52.28893409, 51.77615728000001, 52.43173664, 51.818479325, 53.698742644999996, 50.8546323, 52.509284609999995], 'Standard Deviation': [4.846308280753016, 4.9947736805840215, 6.5672432670669405, 7.821002681031187, 6.268187718414199, 7.7104190335782645, 6.966588504381901, 8.279708757706757, 6.507769943201596, 8.13470829147334], 'Variance': [23.486703952095255, 24.947764120254853, 43.12868412883606, 61.16808293669701, 39.29017727327861, 59.45056167336598, 48.53335538938606, 68.55357711244598, 42.3510696336381, 66.1734789873651], 'Standard Error': [0.3209546065084816, 0.32934562340083096, 0.4922356938011383, 0.5813305510593876, 0.46982053275261093, 0.5731109332771458, 0.5163978968332169, 0.6038598237739697, 0.5128841213647222, 0.5964657512424235]}\n"
     ]
    }
   ],
   "source": [
    "print(dictionary['Drug Regimen'][7])\n",
    "print(dictionary['Standard Error'][7])\n",
    "\n",
    "for x in range(len(regimen_names)):\n",
    "    df = pd.DataFrame({\n",
    "        'Drug Regimen': regimen_names[x],\n",
    "        'Mean': dictionary['Mean'][x],\n",
    "        'Median': dictionary['Median'][x],\n",
    "        'Standard Deviation': dictionary['Standard Deviation'][x],\n",
    "        'Variance': dictionary['Variance'][x],\n",
    "        \"Standard Error\": dictionary['Standard Error'][x]\n",
    "    },index=[0])\n",
    "    print(df)\n",
    "\n",
    "#print(len(regimen_names))\n",
    "#regimen_1"
   ]
  },
  {
   "cell_type": "markdown",
   "metadata": {},
   "source": [
    "## Bar plots"
   ]
  },
  {
   "cell_type": "code",
   "execution_count": 3,
   "metadata": {},
   "outputs": [],
   "source": [
    "# Generate a bar plot showing number of data points for each treatment regimen using pandas"
   ]
  },
  {
   "cell_type": "code",
   "execution_count": 4,
   "metadata": {},
   "outputs": [],
   "source": [
    "# Generate a bar plot showing number of data points for each treatment regimen using pyplot"
   ]
  },
  {
   "cell_type": "markdown",
   "metadata": {},
   "source": [
    "## Pie plots"
   ]
  },
  {
   "cell_type": "code",
   "execution_count": 5,
   "metadata": {},
   "outputs": [],
   "source": [
    "# Generate a pie plot showing the distribution of female versus male mice using pandas"
   ]
  },
  {
   "cell_type": "code",
   "execution_count": 6,
   "metadata": {},
   "outputs": [],
   "source": [
    "# Generate a pie plot showing the distribution of female versus male mice using pyplot"
   ]
  },
  {
   "cell_type": "markdown",
   "metadata": {},
   "source": [
    "## Quartiles, outliers and boxplots"
   ]
  },
  {
   "cell_type": "code",
   "execution_count": 7,
   "metadata": {},
   "outputs": [],
   "source": [
    "# Calculate the final tumor volume of each mouse across four of the most promising treatment regimens. Calculate the IQR and quantitatively determine if there are any potential outliers. "
   ]
  },
  {
   "cell_type": "code",
   "execution_count": 8,
   "metadata": {},
   "outputs": [],
   "source": [
    "# Generate a box plot of the final tumor volume of each mouse across four regimens of interest"
   ]
  },
  {
   "cell_type": "markdown",
   "metadata": {},
   "source": [
    "## Line and scatter plots"
   ]
  },
  {
   "cell_type": "code",
   "execution_count": 9,
   "metadata": {},
   "outputs": [],
   "source": [
    "# Generate a line plot of time point versus tumor volume for a mouse treated with Capomulin"
   ]
  },
  {
   "cell_type": "code",
   "execution_count": 10,
   "metadata": {},
   "outputs": [],
   "source": [
    "# Generate a scatter plot of mouse weight versus average tumor volume for the Capomulin regimen"
   ]
  },
  {
   "cell_type": "code",
   "execution_count": 11,
   "metadata": {},
   "outputs": [],
   "source": [
    "# Calculate the correlation coefficient and linear regression model for mouse weight and average tumor volume for the Capomulin regimen"
   ]
  },
  {
   "cell_type": "code",
   "execution_count": null,
   "metadata": {},
   "outputs": [],
   "source": []
  }
 ],
 "metadata": {
  "anaconda-cloud": {},
  "kernelspec": {
   "display_name": "Python 3.7.6 64-bit ('PythonData': conda)",
   "language": "python",
   "name": "python37664bitpythondataconda00c3923f2c374626b44de5df4918a455"
  },
  "language_info": {
   "codemirror_mode": {
    "name": "ipython",
    "version": 3
   },
   "file_extension": ".py",
   "mimetype": "text/x-python",
   "name": "python",
   "nbconvert_exporter": "python",
   "pygments_lexer": "ipython3",
   "version": "3.7.6"
  }
 },
 "nbformat": 4,
 "nbformat_minor": 2
}
